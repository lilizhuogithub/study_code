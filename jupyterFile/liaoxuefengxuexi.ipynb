{
 "cells": [
  {
   "cell_type": "code",
   "execution_count": 41,
   "id": "5694d43a",
   "metadata": {},
   "outputs": [],
   "source": [
    "def not_empty(s):\n",
    "    return s and s.strip()"
   ]
  },
  {
   "cell_type": "code",
   "execution_count": 42,
   "id": "f71662ee",
   "metadata": {},
   "outputs": [
    {
     "data": {
      "text/plain": [
       "<filter at 0x1b25483a190>"
      ]
     },
     "execution_count": 42,
     "metadata": {},
     "output_type": "execute_result"
    }
   ],
   "source": [
    "filter(not_empty, ['A', '', 'B', 'C', None, '  '])"
   ]
  },
  {
   "cell_type": "code",
   "execution_count": 43,
   "id": "71a46c1d",
   "metadata": {},
   "outputs": [],
   "source": [
    "L = [('Bob', 75), ('Adam', 92), ('Bart', 66), ('Lisa', 88)]"
   ]
  },
  {
   "cell_type": "code",
   "execution_count": 44,
   "id": "6a568cfe",
   "metadata": {},
   "outputs": [],
   "source": [
    "def by_name(t):\n",
    "    for key in t:\n",
    "        return key"
   ]
  },
  {
   "cell_type": "code",
   "execution_count": 45,
   "id": "93605d97",
   "metadata": {},
   "outputs": [
    {
     "name": "stdout",
     "output_type": "stream",
     "text": [
      "[('Adam', 92), ('Bart', 66), ('Bob', 75), ('Lisa', 88)]\n"
     ]
    }
   ],
   "source": [
    "L2 = sorted(L, key=by_name)\n",
    "print(L2)"
   ]
  },
  {
   "cell_type": "code",
   "execution_count": 63,
   "id": "c5707a42",
   "metadata": {},
   "outputs": [],
   "source": [
    "def by_score(t):\n",
    "        return t[0]"
   ]
  },
  {
   "cell_type": "code",
   "execution_count": 64,
   "id": "502ff970",
   "metadata": {},
   "outputs": [
    {
     "name": "stdout",
     "output_type": "stream",
     "text": [
      "('Bob', 75)\n"
     ]
    }
   ],
   "source": [
    "print(by_score(L))"
   ]
  },
  {
   "cell_type": "code",
   "execution_count": 65,
   "id": "971981f8",
   "metadata": {},
   "outputs": [
    {
     "name": "stdout",
     "output_type": "stream",
     "text": [
      "[('Adam', 92), ('Bart', 66), ('Bob', 75), ('Lisa', 88)]\n"
     ]
    }
   ],
   "source": [
    "L2 = sorted(L, key=by_score)\n",
    "print(L2)"
   ]
  },
  {
   "cell_type": "code",
   "execution_count": 118,
   "id": "da57addf",
   "metadata": {},
   "outputs": [],
   "source": [
    "def calc(*numbers):\n",
    "    sum = 0\n",
    "    for n in numbers:\n",
    "        sum = sum + n * n\n",
    "    return sum"
   ]
  },
  {
   "cell_type": "code",
   "execution_count": 119,
   "id": "a956f9b0",
   "metadata": {},
   "outputs": [
    {
     "data": {
      "text/plain": [
       "14"
      ]
     },
     "execution_count": 119,
     "metadata": {},
     "output_type": "execute_result"
    }
   ],
   "source": [
    " calc(1, 2, 3)"
   ]
  },
  {
   "cell_type": "code",
   "execution_count": 121,
   "id": "341178b8",
   "metadata": {},
   "outputs": [
    {
     "ename": "TypeError",
     "evalue": "can't multiply sequence by non-int of type 'tuple'",
     "output_type": "error",
     "traceback": [
      "\u001b[1;31m---------------------------------------------------------------------------\u001b[0m",
      "\u001b[1;31mTypeError\u001b[0m                                 Traceback (most recent call last)",
      "\u001b[1;32m~\\AppData\\Local\\Temp\\ipykernel_11504\\880202475.py\u001b[0m in \u001b[0;36m<module>\u001b[1;34m\u001b[0m\n\u001b[1;32m----> 1\u001b[1;33m \u001b[0mcalc\u001b[0m\u001b[1;33m(\u001b[0m\u001b[1;33m(\u001b[0m\u001b[1;36m1\u001b[0m\u001b[1;33m,\u001b[0m \u001b[1;36m2\u001b[0m\u001b[1;33m,\u001b[0m \u001b[1;36m3\u001b[0m\u001b[1;33m)\u001b[0m\u001b[1;33m)\u001b[0m\u001b[1;33m\u001b[0m\u001b[1;33m\u001b[0m\u001b[0m\n\u001b[0m",
      "\u001b[1;32m~\\AppData\\Local\\Temp\\ipykernel_11504\\547469195.py\u001b[0m in \u001b[0;36mcalc\u001b[1;34m(*numbers)\u001b[0m\n\u001b[0;32m      2\u001b[0m     \u001b[0msum\u001b[0m \u001b[1;33m=\u001b[0m \u001b[1;36m0\u001b[0m\u001b[1;33m\u001b[0m\u001b[1;33m\u001b[0m\u001b[0m\n\u001b[0;32m      3\u001b[0m     \u001b[1;32mfor\u001b[0m \u001b[0mn\u001b[0m \u001b[1;32min\u001b[0m \u001b[0mnumbers\u001b[0m\u001b[1;33m:\u001b[0m\u001b[1;33m\u001b[0m\u001b[1;33m\u001b[0m\u001b[0m\n\u001b[1;32m----> 4\u001b[1;33m         \u001b[0msum\u001b[0m \u001b[1;33m=\u001b[0m \u001b[0msum\u001b[0m \u001b[1;33m+\u001b[0m \u001b[0mn\u001b[0m \u001b[1;33m*\u001b[0m \u001b[0mn\u001b[0m\u001b[1;33m\u001b[0m\u001b[1;33m\u001b[0m\u001b[0m\n\u001b[0m\u001b[0;32m      5\u001b[0m     \u001b[1;32mreturn\u001b[0m \u001b[0msum\u001b[0m\u001b[1;33m\u001b[0m\u001b[1;33m\u001b[0m\u001b[0m\n",
      "\u001b[1;31mTypeError\u001b[0m: can't multiply sequence by non-int of type 'tuple'"
     ]
    }
   ],
   "source": [
    " calc((1, 2, 3))\n"
   ]
  },
  {
   "cell_type": "code",
   "execution_count": 82,
   "id": "e62caa6d",
   "metadata": {},
   "outputs": [
    {
     "data": {
      "text/plain": [
       "14"
      ]
     },
     "execution_count": 82,
     "metadata": {},
     "output_type": "execute_result"
    }
   ],
   "source": [
    " calc(*[1, 2, 3])"
   ]
  },
  {
   "cell_type": "code",
   "execution_count": 92,
   "id": "8437431d",
   "metadata": {},
   "outputs": [],
   "source": [
    "def build(x, y):\n",
    "    return lambda x,y: x * x + y * y"
   ]
  },
  {
   "cell_type": "code",
   "execution_count": 96,
   "id": "f8d06d65",
   "metadata": {},
   "outputs": [
    {
     "data": {
      "text/plain": [
       "[1, 3, 5, 7, 9, 11, 13, 15, 17, 19]"
      ]
     },
     "execution_count": 96,
     "metadata": {},
     "output_type": "execute_result"
    }
   ],
   "source": [
    "L = list(filter(lambda n: n%2 == 1, range(1, 20)))\n",
    "L"
   ]
  },
  {
   "cell_type": "code",
   "execution_count": 115,
   "id": "cebeb5bc",
   "metadata": {},
   "outputs": [],
   "source": [
    "def outer(origin):\n",
    "    def inner(*kwg, **kwarg):\n",
    "        print('before')\n",
    "        res =origin(*kwg, **kwarg)\n",
    "        print(\"after\")\n",
    "        return res\n",
    "    return inner\n",
    "\n",
    "@outer\n",
    "\n",
    "def func():\n",
    "    print('我是func函数')\n",
    "    value = (11, 22, 33, 44)\n",
    "    return value\n",
    "\n",
    "# func = outer(func)"
   ]
  },
  {
   "cell_type": "code",
   "execution_count": null,
   "id": "0843f281",
   "metadata": {},
   "outputs": [],
   "source": [
    "\n",
    "print(func)"
   ]
  },
  {
   "cell_type": "code",
   "execution_count": 17,
   "id": "e03a7222",
   "metadata": {},
   "outputs": [
    {
     "name": "stdout",
     "output_type": "stream",
     "text": [
      "male\n",
      "female\n"
     ]
    },
    {
     "ename": "NameError",
     "evalue": "name 'self' is not defined",
     "output_type": "error",
     "traceback": [
      "\u001b[1;31m---------------------------------------------------------------------------\u001b[0m",
      "\u001b[1;31mNameError\u001b[0m                                 Traceback (most recent call last)",
      "\u001b[1;32m~\\AppData\\Local\\Temp\\ipykernel_11808\\2063461286.py\u001b[0m in \u001b[0;36m<module>\u001b[1;34m\u001b[0m\n\u001b[0;32m     12\u001b[0m \u001b[0mbart\u001b[0m\u001b[1;33m.\u001b[0m\u001b[0mset_gender\u001b[0m\u001b[1;33m(\u001b[0m\u001b[1;34m'female'\u001b[0m\u001b[1;33m)\u001b[0m\u001b[1;33m\u001b[0m\u001b[1;33m\u001b[0m\u001b[0m\n\u001b[0;32m     13\u001b[0m \u001b[0mbart\u001b[0m\u001b[1;33m.\u001b[0m\u001b[0mget_gender\u001b[0m\u001b[1;33m(\u001b[0m\u001b[1;33m)\u001b[0m\u001b[1;33m\u001b[0m\u001b[1;33m\u001b[0m\u001b[0m\n\u001b[1;32m---> 14\u001b[1;33m \u001b[0mtype\u001b[0m\u001b[1;33m(\u001b[0m\u001b[1;33m(\u001b[0m\u001b[1;34m'%s'\u001b[0m\u001b[1;33m%\u001b[0m\u001b[1;33m(\u001b[0m\u001b[0mself\u001b[0m\u001b[1;33m.\u001b[0m\u001b[0m__gender\u001b[0m\u001b[1;33m)\u001b[0m\u001b[1;33m)\u001b[0m\u001b[1;33m)\u001b[0m\u001b[1;33m\u001b[0m\u001b[1;33m\u001b[0m\u001b[0m\n\u001b[0m",
      "\u001b[1;31mNameError\u001b[0m: name 'self' is not defined"
     ]
    }
   ],
   "source": [
    "class Student(object):\n",
    "    def __init__(self, name, gender):\n",
    "        self.name = name\n",
    "        self.__gender = gender\n",
    "    def get_gender(self):\n",
    "        print('%s'%(self.__gender))\n",
    "    def set_gender(self,gender):\n",
    "        self.__gender = gender\n",
    "        # 测试:\n",
    "bart = Student('Bart', 'male')\n",
    "bart.get_gender()\n",
    "bart.set_gender('female')\n",
    "bart.get_gender()\n",
    "type(('%s'%(self.__gender)))"
   ]
  },
  {
   "cell_type": "code",
   "execution_count": 15,
   "id": "57fa0b59",
   "metadata": {},
   "outputs": [
    {
     "data": {
      "text/plain": [
       "'D:\\\\python_project\\\\jupyterFile'"
      ]
     },
     "execution_count": 15,
     "metadata": {},
     "output_type": "execute_result"
    }
   ],
   "source": [
    "import os\n",
    "os.getcwd()"
   ]
  },
  {
   "cell_type": "code",
   "execution_count": 18,
   "id": "2f0d042c",
   "metadata": {},
   "outputs": [
    {
     "name": "stdout",
     "output_type": "stream",
     "text": [
      "Animal is eating...\n",
      "Animal is run...\n",
      "Animal is eating...\n",
      "dog is run...\n",
      "Animal is eating...\n",
      "cat is run...\n"
     ]
    }
   ],
   "source": [
    "class  Animal(object) :\n",
    "    def run(self) :\n",
    "        print(\"Animal is run...\")\n",
    "    def eat(self) :\n",
    "        print(\"Animal is eating...\")\n",
    "        \n",
    "class Dog(Animal):\n",
    "    def run(self) :\n",
    "        print(\"dog is run...\")\n",
    "        \n",
    "class Cat(Animal):\n",
    "    def run(self) :\n",
    "        print(\"cat is run...\")\n",
    "        \n",
    "def run_eat(Animal) :\n",
    "    Animal.eat()\n",
    "    Animal.run()\n",
    "\n",
    "animal = Animal()\n",
    "dog = Dog()\n",
    "cat = Cat()\n",
    "\n",
    "run_eat(animal)\n",
    "run_eat(dog)\n",
    "run_eat(cat)"
   ]
  },
  {
   "cell_type": "code",
   "execution_count": 46,
   "id": "df6d24a3",
   "metadata": {},
   "outputs": [
    {
     "data": {
      "text/plain": [
       "2"
      ]
     },
     "execution_count": 46,
     "metadata": {},
     "output_type": "execute_result"
    }
   ],
   "source": [
    "class Student(object):\n",
    "    count = 0\n",
    "\n",
    "    def __init__(self, name):\n",
    "        self.name = name\n",
    "#         self.count = count + 1\n",
    "        Student.count += 1\n",
    "\n",
    "bart = Student('Bart')    \n",
    "Student.count\n",
    "lisa = Student('Bart')\n",
    "Student.count"
   ]
  },
  {
   "cell_type": "code",
   "execution_count": 49,
   "id": "96d33ef0",
   "metadata": {},
   "outputs": [
    {
     "name": "stdout",
     "output_type": "stream",
     "text": [
      "resolution = 786432\n",
      "测试通过!\n"
     ]
    }
   ],
   "source": [
    "class Screen(object):\n",
    "    @property\n",
    "    def width(self):\n",
    "        return self._width\n",
    "    \n",
    "    @width.setter\n",
    "    def width(self, value):\n",
    "        self._width = value\n",
    "    \n",
    "    @property\n",
    "    def height(self):\n",
    "        return self._height\n",
    "    \n",
    "    @height.setter\n",
    "    def height(self, value):\n",
    "        self._height = value\n",
    "    \n",
    "\n",
    "    @property\n",
    "    def resolution(self):\n",
    "        return self._width*self._height\n",
    "\n",
    "\n",
    "\n",
    "\n",
    "# 测试:\n",
    "s = Screen()\n",
    "s.width = 1024\n",
    "s.height = 768\n",
    "print('resolution =', s.resolution)\n",
    "if s.resolution == 786432:\n",
    "    print('测试通过!')\n",
    "else:\n",
    "    print('测试失败!')\n"
   ]
  },
  {
   "cell_type": "code",
   "execution_count": 51,
   "id": "24edf863",
   "metadata": {},
   "outputs": [
    {
     "name": "stdout",
     "output_type": "stream",
     "text": [
      "测试通过!\n"
     ]
    }
   ],
   "source": [
    "from enum import Enum, unique\n",
    "class Gender(Enum):\n",
    "    Male = 0\n",
    "    Female = 1\n",
    "\n",
    "class Student(object):\n",
    "    def __init__(self, name, gender):\n",
    "        self.name = name\n",
    "        self.gender = gender\n",
    "\n",
    "        \n",
    "# 测试:\n",
    "bart = Student('Bart', Gender.Male)\n",
    "if bart.gender == Gender.Male:\n",
    "    print('测试通过!')\n",
    "else:\n",
    "    print('测试失败!')"
   ]
  },
  {
   "cell_type": "code",
   "execution_count": 57,
   "id": "2ce045f8",
   "metadata": {},
   "outputs": [
    {
     "name": "stdout",
     "output_type": "stream",
     "text": [
      "100 + 200 + 345 = 645.0\n",
      "99 + 88 + 7.6 = 194.6\n",
      "END\n"
     ]
    }
   ],
   "source": [
    "from functools import reduce\n",
    "\n",
    "def str2num(s):\n",
    "#     if isinstance(s, int):\n",
    "#         return int(s)\n",
    "#     else:\n",
    "        return float(s)\n",
    "\n",
    "def calc(exp):\n",
    "    ss = exp.split('+')\n",
    "    ns = map(str2num, ss)\n",
    "    return reduce(lambda acc, x: acc + x, ns)\n",
    "\n",
    "def main():\n",
    "    r = calc('100 + 200 + 345')\n",
    "    print('100 + 200 + 345 =', r)\n",
    "    r = calc('99 + 88 + 7.6')\n",
    "    print('99 + 88 + 7.6 =', r)\n",
    "\n",
    "main()\n",
    "print(\"END\")"
   ]
  },
  {
   "cell_type": "code",
   "execution_count": 7,
   "id": "0acd385d",
   "metadata": {},
   "outputs": [
    {
     "name": "stderr",
     "output_type": "stream",
     "text": [
      "E\n",
      "======================================================================\n",
      "ERROR: C:\\Users\\lizhuo\\AppData\\Roaming\\jupyter\\runtime\\kernel-b07c4be3-6597-4492-9a19-71c8509a74b5 (unittest.loader._FailedTest)\n",
      "----------------------------------------------------------------------\n",
      "AttributeError: module '__main__' has no attribute 'C:\\Users\\lizhuo\\AppData\\Roaming\\jupyter\\runtime\\kernel-b07c4be3-6597-4492-9a19-71c8509a74b5'\n",
      "\n",
      "----------------------------------------------------------------------\n",
      "Ran 1 test in 0.001s\n",
      "\n",
      "FAILED (errors=1)\n"
     ]
    },
    {
     "ename": "SystemExit",
     "evalue": "True",
     "output_type": "error",
     "traceback": [
      "An exception has occurred, use %tb to see the full traceback.\n",
      "\u001b[1;31mSystemExit\u001b[0m\u001b[1;31m:\u001b[0m True\n"
     ]
    },
    {
     "name": "stderr",
     "output_type": "stream",
     "text": [
      "D:\\anconda\\lib\\site-packages\\IPython\\core\\interactiveshell.py:3465: UserWarning: To exit: use 'exit', 'quit', or Ctrl-D.\n",
      "  warn(\"To exit: use 'exit', 'quit', or Ctrl-D.\", stacklevel=1)\n"
     ]
    }
   ],
   "source": [
    "import unittest\n",
    "\n",
    "class Student(object):\n",
    "    def __init__(self, name, score):\n",
    "        self.name = name\n",
    "        self.score = score\n",
    "\n",
    "    def get_grade(self):\n",
    "        if self.score < 0 or self.score > 100:\n",
    "            raise ValueError\n",
    "        if self.score >= 80:\n",
    "            return 'A'\n",
    "        if self.score >= 60:\n",
    "            return 'B'\n",
    "        return 'C'\n",
    "\n",
    "class TestStudent(unittest.TestCase):\n",
    "    def test_80_to_100(self):\n",
    "        s1 = Student('Bart', 80)\n",
    "        s2 = Student('Lisa', 100)\n",
    "        self.assertEqual(s1.get_grade(), 'A')\n",
    "        self.assertEqual(s2.get_grade(), 'A')\n",
    "\n",
    "    def test_60_to_80(self):\n",
    "        s1 = Student('Bart', 60)\n",
    "        s2 = Student('Lisa', 79)\n",
    "        self.assertEqual(s1.get_grade(), 'B')\n",
    "        self.assertEqual(s2.get_grade(), 'B')\n",
    "\n",
    "    def test_0_to_60(self):\n",
    "        s1 = Student('Bart', 0)\n",
    "        s2 = Student('Lisa', 59)\n",
    "        self.assertEqual(s1.get_grade(), 'C')\n",
    "        self.assertEqual(s2.get_grade(), 'C')\n",
    "\n",
    "    def test_invalid(self):\n",
    "        s1 = Student('Bart', -1)\n",
    "        s2 = Student('Lisa', 101)\n",
    "        with self.assertRaises(ValueError):\n",
    "            s1.get_grade()\n",
    "        with self.assertRaises(ValueError):\n",
    "            s2.get_grade()\n",
    "\n",
    "if __name__ == '__main__':\n",
    "    unittest.main()\n"
   ]
  },
  {
   "cell_type": "code",
   "execution_count": 1,
   "id": "ad43738d",
   "metadata": {},
   "outputs": [
    {
     "name": "stdout",
     "output_type": "stream",
     "text": [
      "'hellp'\n"
     ]
    }
   ],
   "source": [
    "fpath = 'C:/Users/lizhuo/Desktop/work/liaoxuefeng/duqu.txt'\n",
    "\n",
    "with open(fpath, 'r', errors='ignore') as f:\n",
    "    s = f.read()\n",
    "    print(s)\n",
    "\n"
   ]
  },
  {
   "cell_type": "code",
   "execution_count": 29,
   "id": "2bc12ecd",
   "metadata": {},
   "outputs": [
    {
     "name": "stdout",
     "output_type": "stream",
     "text": [
      "<Tom Paris>tom@voyager.org 的姓名为：Tom Paris\n",
      "bob@example.com 的姓名为：bob\n"
     ]
    }
   ],
   "source": [
    "import re\n",
    "\n",
    "pattern = re.compile(r'<?([\\w\\s]+)?>?\\s?([\\w\\s]+)*@[\\w\\s]+\\.\\w+')\n",
    "\n",
    "email1 = '<Tom Paris>tom@voyager.org'\n",
    "email2 = 'bob@example.com'\n",
    "\n",
    "match1 = pattern.match(email1)\n",
    "if match1:\n",
    "    name = match1.group(1)\n",
    "    print(f'{email1} 的姓名为：{name}')\n",
    "\n",
    "match2 = pattern.match(email2)\n",
    "if match2:\n",
    "    name = match2.group(1)\n",
    "    print(f'{email2} 的姓名为：{name}')\n"
   ]
  },
  {
   "cell_type": "code",
   "execution_count": 39,
   "id": "635f3d81",
   "metadata": {},
   "outputs": [
    {
     "name": "stdout",
     "output_type": "stream",
     "text": [
      "Tom Paris\n",
      "tom\n"
     ]
    }
   ],
   "source": [
    "import re\n",
    "def name_of_email(addr):\n",
    "    a = re.compile(r'<?([\\w\\s]+)>?([\\w]+)*@[\\w]+\\.\\w+')\n",
    "    b = a.match(addr)\n",
    "    return b.group(1)\n",
    "print(name_of_email('<Tom Paris>tom@voyager.org'))\n",
    "print(name_of_email('tom@voyager.org'))"
   ]
  },
  {
   "cell_type": "code",
   "execution_count": null,
   "id": "6ed22a81",
   "metadata": {},
   "outputs": [],
   "source": []
  }
 ],
 "metadata": {
  "kernelspec": {
   "display_name": "Python 3 (ipykernel)",
   "language": "python",
   "name": "python3"
  },
  "language_info": {
   "codemirror_mode": {
    "name": "ipython",
    "version": 3
   },
   "file_extension": ".py",
   "mimetype": "text/x-python",
   "name": "python",
   "nbconvert_exporter": "python",
   "pygments_lexer": "ipython3",
   "version": "3.9.13"
  }
 },
 "nbformat": 4,
 "nbformat_minor": 5
}
