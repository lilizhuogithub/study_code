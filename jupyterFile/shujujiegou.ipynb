{
 "cells": [
  {
   "cell_type": "code",
   "execution_count": 10,
   "id": "76ffbd43",
   "metadata": {},
   "outputs": [
    {
     "data": {
      "text/plain": [
       "'D:\\\\python_project\\\\jupyterFile'"
      ]
     },
     "execution_count": 10,
     "metadata": {},
     "output_type": "execute_result"
    }
   ],
   "source": [
    "import os\n",
    "os.getcwd()"
   ]
  },
  {
   "cell_type": "code",
   "execution_count": 12,
   "id": "612083c5",
   "metadata": {},
   "outputs": [
    {
     "name": "stdout",
     "output_type": "stream",
     "text": [
      "Help on built-in function getcwd in module nt:\n",
      "\n",
      "getcwd()\n",
      "    Return a unicode string representing the current working directory.\n",
      "\n"
     ]
    }
   ],
   "source": [
    "help(os.getcwd)"
   ]
  },
  {
   "cell_type": "code",
   "execution_count": 11,
   "id": "3848befc",
   "metadata": {},
   "outputs": [],
   "source": [
    "def algorithm(N):\n",
    "    if N <= 0: return 1\n",
    "    count = 0\n",
    "    for _ in range(N):\n",
    "        count += algorithm(N - 1)\n",
    "    return count\n"
   ]
  },
  {
   "cell_type": "code",
   "execution_count": null,
   "id": "386cf4ef",
   "metadata": {},
   "outputs": [],
   "source": [
    "algorithm(3)"
   ]
  },
  {
   "cell_type": "code",
   "execution_count": 25,
   "id": "6486c273",
   "metadata": {},
   "outputs": [
    {
     "ename": "TypeError",
     "evalue": "test() missing 1 required positional argument: 's1'",
     "output_type": "error",
     "traceback": [
      "\u001b[1;31m---------------------------------------------------------------------------\u001b[0m",
      "\u001b[1;31mTypeError\u001b[0m                                 Traceback (most recent call last)",
      "\u001b[1;32m~\\AppData\\Local\\Temp\\ipykernel_456\\4115745412.py\u001b[0m in \u001b[0;36m<module>\u001b[1;34m\u001b[0m\n\u001b[0;32m      6\u001b[0m \u001b[1;33m\u001b[0m\u001b[0m\n\u001b[0;32m      7\u001b[0m \u001b[0ma\u001b[0m \u001b[1;33m=\u001b[0m \u001b[0mTest\u001b[0m\u001b[1;33m(\u001b[0m\u001b[1;33m)\u001b[0m\u001b[1;33m\u001b[0m\u001b[1;33m\u001b[0m\u001b[0m\n\u001b[1;32m----> 8\u001b[1;33m \u001b[0mb\u001b[0m \u001b[1;33m=\u001b[0m \u001b[0mtest\u001b[0m\u001b[1;33m(\u001b[0m\u001b[1;34m's'\u001b[0m\u001b[1;33m)\u001b[0m\u001b[1;33m\u001b[0m\u001b[1;33m\u001b[0m\u001b[0m\n\u001b[0m",
      "\u001b[1;31mTypeError\u001b[0m: test() missing 1 required positional argument: 's1'"
     ]
    }
   ],
   "source": [
    "class Test():\n",
    "    def test(self, s1):\n",
    "        s1 = 'Hello World'\n",
    "        s1[5] = ','\n",
    "        print(s1)\n",
    "    \n",
    "a = Test()\n",
    "b = test('s')"
   ]
  },
  {
   "cell_type": "code",
   "execution_count": 27,
   "id": "d021755f",
   "metadata": {},
   "outputs": [],
   "source": [
    "class CQueue:\n",
    "\n",
    "    def __init__(self):\n",
    "        self.A, self.B = [], []\n",
    "\n",
    "\n",
    "    def appendTail(self, value: int) -> None:\n",
    "        self.A.append(value)\n",
    "        \n",
    "    def deleteHead(self) -> int:\n",
    "        if self.B: return self.B.pop()\n",
    "        if not self.A: return -1\n",
    "        while self.A:\n",
    "            self.B.append(self.A.pop())\n",
    "        return self.B.pop()\n",
    "        "
   ]
  },
  {
   "cell_type": "code",
   "execution_count": 41,
   "id": "77069693",
   "metadata": {},
   "outputs": [
    {
     "data": {
      "text/plain": [
       "[<__main__.CQueue at 0x23ca5ef07f0>, None, 3, -1, -1]"
      ]
     },
     "execution_count": 41,
     "metadata": {},
     "output_type": "execute_result"
    }
   ],
   "source": [
    "# [\"CQueue\",\"appendTail\",\"deleteHead\",\"deleteHead\",\"deleteHead\"]\n",
    "# [[],[3],[],[],[]]\n",
    "\n",
    "# c = CQueue()\n",
    "# c.appendTail(3)\n",
    "# c.deleteHead()\n",
    "# c.deleteHead()\n",
    "# c.deleteHead()\n",
    "\n",
    "c = CQueue()\n",
    "[c,c.appendTail(3),c.deleteHead(),c.deleteHead(),c.deleteHead()]"
   ]
  },
  {
   "cell_type": "code",
   "execution_count": 46,
   "id": "d11ccac2",
   "metadata": {},
   "outputs": [],
   "source": [
    "class MinStack:\n",
    "\n",
    "    def __init__(self):\n",
    "       self.A, self.B = [], []\n",
    "    def push(self, x: int) -> None:\n",
    "        self.A.append(x)\n",
    "        if not self.B or self.B[-1] >= x:\n",
    "            self.B.append(x)\n",
    "    def pop(self) -> None:\n",
    "        if self.A.pop() == self.B[-1]:\n",
    "            self.B.pop()\n",
    "    def top(self) -> int:\n",
    "        return self.A[-1]\n",
    "    def min(self) -> int:\n",
    "        return self.B[-1]\n",
    "   \n",
    "        \n",
    "# Your MinStack object will be instantiated and called as such:\n",
    "# obj = MinStack()\n",
    "# obj.push(x)\n",
    "# obj.pop()\n",
    "# param_3 = obj.top()\n",
    "# param_4 = obj.min()"
   ]
  },
  {
   "cell_type": "code",
   "execution_count": 47,
   "id": "6ecea98c",
   "metadata": {},
   "outputs": [
    {
     "data": {
      "text/plain": [
       "[<__main__.MinStack at 0x23ca5ed61c0>, None, None, None, -3, None, 0, -2]"
      ]
     },
     "execution_count": 47,
     "metadata": {},
     "output_type": "execute_result"
    }
   ],
   "source": [
    "# [\"MinStack\",\"push\",\"push\",\"push\",\"min\",\"pop\",\"top\",\"min\"]\n",
    "# [[],[-2],[0],[-3],[],[],[],[]]\n",
    "c = MinStack()\n",
    "[c,c.push(-2),c.push(0),c.push(-3),c.min(),c.pop(),c.top(),c.min()]"
   ]
  },
  {
   "cell_type": "code",
   "execution_count": 82,
   "id": "61fc9ef7",
   "metadata": {},
   "outputs": [
    {
     "data": {
      "text/plain": [
       "[2, 3, 1]"
      ]
     },
     "execution_count": 82,
     "metadata": {},
     "output_type": "execute_result"
    }
   ],
   "source": [
    "# Definition for singly-linked list.\n",
    "# class ListNode:\n",
    "#     def __init__(self, x):\n",
    "#         self.val = x\n",
    "#         self.next = None\n",
    "\n",
    "class Solution:\n",
    "    def reversePrint(self, head: ListNode):\n",
    "        return self.reversePrint(head.next) + [head.val] if head else []\n",
    "\n",
    "# 实例化节点\n",
    "n1 = ListNode(1) # 节点 head\n",
    "n2 = ListNode(3)\n",
    "n3 = ListNode(2)\n",
    "\n",
    "# 构建引用指向\n",
    "n1.next = n2\n",
    "n2.next = n3\n",
    "\n",
    "\n",
    "c=Solution()\n",
    "c.reversePrint(n1)\n"
   ]
  },
  {
   "cell_type": "code",
   "execution_count": 86,
   "id": "40c96dfe",
   "metadata": {},
   "outputs": [
    {
     "data": {
      "text/plain": [
       "[2, 3, 1]"
      ]
     },
     "execution_count": 86,
     "metadata": {},
     "output_type": "execute_result"
    }
   ],
   "source": [
    "\n",
    "# Definition for singly-linked list.\n",
    "class ListNode:\n",
    "    def __init__(self, x):\n",
    "        self.val = x\n",
    "        self.next = None\n",
    "\n",
    "class Solution:\n",
    "    def reversePrint(self, head: ListNode) -> List[int]:\n",
    "        res = []\n",
    "        while head:\n",
    "            res.append(head.val)\n",
    "            head = head.next\n",
    "        return res[::-1]\n",
    "    \n",
    "# 实例化节点\n",
    "n1 = ListNode(1) # 节点 head\n",
    "n2 = ListNode(3)\n",
    "n3 = ListNode(2)\n",
    "\n",
    "# 构建引用指向\n",
    "n1.next = n2\n",
    "n2.next = n3\n",
    "    \n",
    "c=Solution()\n",
    "c.reversePrint(n1)"
   ]
  },
  {
   "cell_type": "code",
   "execution_count": null,
   "id": "6614b06d",
   "metadata": {},
   "outputs": [],
   "source": [
    "# Definition for singly-linked list.\n",
    "class ListNode:\n",
    "    def __init__(self, x):\n",
    "        self.val = x\n",
    "        self.next = None\n",
    "\n",
    "class Solution:\n",
    "    def reverseList(self, head: ListNode) -> ListNode:"
   ]
  },
  {
   "cell_type": "code",
   "execution_count": 7,
   "id": "74261052",
   "metadata": {},
   "outputs": [
    {
     "name": "stdout",
     "output_type": "stream",
     "text": [
      "W\n",
      "e\n",
      " \n",
      "a\n",
      "r\n",
      "e\n",
      " \n",
      "h\n",
      "a\n",
      "p\n",
      "p\n",
      "y\n",
      ".\n"
     ]
    },
    {
     "data": {
      "text/plain": [
       "'We are happy.'"
      ]
     },
     "execution_count": 7,
     "metadata": {},
     "output_type": "execute_result"
    }
   ],
   "source": [
    "class Solution:\n",
    "    def replaceSpace(self, s: str) -> str:\n",
    "        for i in s:\n",
    "            print(i)\n",
    "            if i == ' ':\n",
    "                i = '%20'\n",
    "        return s\n",
    "    \n",
    "c = Solution()\n",
    "c.replaceSpace(\"We are happy.\")\n"
   ]
  },
  {
   "cell_type": "code",
   "execution_count": 8,
   "id": "6cab7cd6",
   "metadata": {},
   "outputs": [
    {
     "data": {
      "text/plain": [
       "'a'"
      ]
     },
     "execution_count": 8,
     "metadata": {},
     "output_type": "execute_result"
    }
   ],
   "source": [
    "s=\"abcdefg\"\n",
    "s[0]"
   ]
  },
  {
   "cell_type": "code",
   "execution_count": 9,
   "id": "e0105b9c",
   "metadata": {},
   "outputs": [
    {
     "ename": "SyntaxError",
     "evalue": "invalid syntax (1737978506.py, line 1)",
     "output_type": "error",
     "traceback": [
      "\u001b[1;36m  File \u001b[1;32m\"C:\\Users\\lizhuo\\AppData\\Local\\Temp\\ipykernel_11276\\1737978506.py\"\u001b[1;36m, line \u001b[1;32m1\u001b[0m\n\u001b[1;33m    from 2 to 4:\u001b[0m\n\u001b[1;37m         ^\u001b[0m\n\u001b[1;31mSyntaxError\u001b[0m\u001b[1;31m:\u001b[0m invalid syntax\n"
     ]
    }
   ],
   "source": [
    "from 2 to 4:\n",
    "    i = 0\n",
    "    i = i+1\n",
    "    print(i)\n",
    "    "
   ]
  },
  {
   "cell_type": "code",
   "execution_count": 1,
   "id": "83c86b36",
   "metadata": {},
   "outputs": [
    {
     "data": {
      "text/plain": [
       "1"
      ]
     },
     "execution_count": 1,
     "metadata": {},
     "output_type": "execute_result"
    }
   ],
   "source": [
    "8%7"
   ]
  },
  {
   "cell_type": "code",
   "execution_count": 19,
   "id": "b57df189",
   "metadata": {},
   "outputs": [
    {
     "name": "stdout",
     "output_type": "stream",
     "text": [
      "{2}\n",
      "{2, 3}\n",
      "{1, 2, 3}\n",
      "{0, 1, 2, 3}\n"
     ]
    },
    {
     "data": {
      "text/plain": [
       "2"
      ]
     },
     "execution_count": 19,
     "metadata": {},
     "output_type": "execute_result"
    }
   ],
   "source": [
    "# 03\n",
    "class Solution:\n",
    "    def findRepeatNumber(self, nums):\n",
    "#         for i in range(len(nums)):\n",
    "#             for n in range(i+1, len(nums)):\n",
    "#                 if nums[i] == nums[i+n]:\n",
    "#                     i = i + 1\n",
    "#                     return nums[i]\n",
    "        # 使用哈希表\n",
    "        dic = set()\n",
    "        for num in nums:\n",
    "            if num in dic: return num\n",
    "            dic.add(num)\n",
    "            print(dic)\n",
    "        return -1\n",
    "c = Solution()\n",
    "c.findRepeatNumber([2, 3, 1, 0, 2, 5, 3])\n"
   ]
  },
  {
   "cell_type": "code",
   "execution_count": 23,
   "id": "142c6f94",
   "metadata": {},
   "outputs": [
    {
     "data": {
      "text/plain": [
       "0"
      ]
     },
     "execution_count": 23,
     "metadata": {},
     "output_type": "execute_result"
    }
   ],
   "source": [
    "# 53\n",
    "class Solution:\n",
    "    def search(self, nums, target: int) -> int:\n",
    "        i = 0\n",
    "        for num in nums:\n",
    "            if num == target:\n",
    "                i += 1\n",
    "        return i\n",
    "\n",
    "c = Solution()\n",
    "c.search([5,7,7,8,8,10], 6)\n",
    "\n",
    "# nums = [5,7,7,8,8,10], target = 6"
   ]
  },
  {
   "cell_type": "code",
   "execution_count": 24,
   "id": "c09923ee",
   "metadata": {},
   "outputs": [
    {
     "data": {
      "text/plain": [
       "0"
      ]
     },
     "execution_count": 24,
     "metadata": {},
     "output_type": "execute_result"
    }
   ],
   "source": [
    "1//2"
   ]
  },
  {
   "cell_type": "code",
   "execution_count": 25,
   "id": "ec21b8e9",
   "metadata": {},
   "outputs": [
    {
     "data": {
      "text/plain": [
       "1"
      ]
     },
     "execution_count": 25,
     "metadata": {},
     "output_type": "execute_result"
    }
   ],
   "source": [
    "2//2"
   ]
  },
  {
   "cell_type": "code",
   "execution_count": 37,
   "id": "b926c117",
   "metadata": {},
   "outputs": [
    {
     "ename": "IndexError",
     "evalue": "list index out of range",
     "output_type": "error",
     "traceback": [
      "\u001b[1;31m---------------------------------------------------------------------------\u001b[0m",
      "\u001b[1;31mIndexError\u001b[0m                                Traceback (most recent call last)",
      "Cell \u001b[1;32mIn[37], line 25\u001b[0m\n\u001b[0;32m     22\u001b[0m                 \u001b[38;5;28;01mreturn\u001b[39;00m i\n\u001b[0;32m     24\u001b[0m c \u001b[38;5;241m=\u001b[39m Solution()\n\u001b[1;32m---> 25\u001b[0m c\u001b[38;5;241m.\u001b[39mmissingNumber([\u001b[38;5;241m0\u001b[39m, \u001b[38;5;241m1\u001b[39m])\n",
      "Cell \u001b[1;32mIn[37], line 19\u001b[0m, in \u001b[0;36mSolution.missingNumber\u001b[1;34m(self, nums)\u001b[0m\n\u001b[0;32m     17\u001b[0m \u001b[38;5;28;01mfor\u001b[39;00m i \u001b[38;5;129;01min\u001b[39;00m \u001b[38;5;28mrange\u001b[39m(\u001b[38;5;28mlen\u001b[39m(nums)):\n\u001b[0;32m     18\u001b[0m     a\u001b[38;5;241m.\u001b[39mappend(i)\n\u001b[1;32m---> 19\u001b[0m     \u001b[38;5;28;01mif\u001b[39;00m a[i] \u001b[38;5;129;01min\u001b[39;00m nums:\n\u001b[0;32m     20\u001b[0m         a\u001b[38;5;241m.\u001b[39mremove(i)\n\u001b[0;32m     21\u001b[0m     \u001b[38;5;28;01melse\u001b[39;00m:\n",
      "\u001b[1;31mIndexError\u001b[0m: list index out of range"
     ]
    }
   ],
   "source": [
    "class Solution:\n",
    "    def missingNumber(self, nums):\n",
    "#         for i in range(len(nums)+1):\n",
    "#             while len(nums)==1:\n",
    "#                 if nums[0]==1:\n",
    "#                     return 0\n",
    "#                 else:\n",
    "#                     return 1\n",
    "#             if i < len(nums):\n",
    "#                 if i == nums[i]:\n",
    "#                     pass\n",
    "#                 else:\n",
    "#                     return i\n",
    "#             else:\n",
    "#                 return len(nums)+1 \n",
    "        a = []\n",
    "        for i in range(len(nums)):\n",
    "            a.append(i)\n",
    "            if a[i] in nums:\n",
    "                a.remove(i)\n",
    "            else:\n",
    "                return i\n",
    "    \n",
    "c = Solution()\n",
    "c.missingNumber([0, 1])           \n",
    "        "
   ]
  },
  {
   "cell_type": "code",
   "execution_count": 58,
   "id": "3f49f33b",
   "metadata": {},
   "outputs": [
    {
     "data": {
      "text/plain": [
       "True"
      ]
     },
     "execution_count": 58,
     "metadata": {},
     "output_type": "execute_result"
    }
   ],
   "source": [
    "class Solution:\n",
    "    def findNumberIn2DArray(self, matrix, target: int) -> bool:\n",
    "        i, j = len(matrix)-1, 0\n",
    "        while i >= 0 and j < len(matrix[0]): \n",
    "            if matrix[i][j] < target: j += 1\n",
    "            elif matrix[i][j] > target: i -= 1\n",
    "            else: return True\n",
    "        return False   \n",
    "matrix = [[1,4,7,11,15],[2,5,8,12,19],[3,6,9,16,22],[10,13,14,17,24]]       \n",
    "c = Solution()\n",
    "c.findNumberIn2DArray(matrix, 8)  "
   ]
  },
  {
   "cell_type": "code",
   "execution_count": 46,
   "id": "a959b419",
   "metadata": {},
   "outputs": [
    {
     "data": {
      "text/plain": [
       "4"
      ]
     },
     "execution_count": 46,
     "metadata": {},
     "output_type": "execute_result"
    }
   ],
   "source": [
    "matrix = [[1,4,7,11,15],[2,5,8,12,19],[3,6,9,16,22],[10,13,14,17,24]]\n",
    "len(matrix)"
   ]
  },
  {
   "cell_type": "code",
   "execution_count": null,
   "id": "132209cb",
   "metadata": {},
   "outputs": [],
   "source": [
    "# 11\n",
    "class Solution:\n",
    "    def minArray(self, numbers: [int]) -> int:\n",
    "        i, j = 0, len(numbers) - 1\n",
    "        while i < j:\n",
    "            m = (i+j) // 2\n",
    "            if numbers[m] < numbers[j]: j = m\n",
    "            elif numbers[m] > numbers[j]: i = m+1\n",
    "            else: j = j - 1\n",
    "        return numbers[i]\n"
   ]
  },
  {
   "cell_type": "code",
   "execution_count": 100,
   "id": "992dcf71",
   "metadata": {},
   "outputs": [
    {
     "name": "stdout",
     "output_type": "stream",
     "text": [
      " \n"
     ]
    }
   ],
   "source": [
    "#50\n",
    "class Solution:\n",
    "    def firstUniqChar(self, s):\n",
    "        if s == '':\n",
    "            return ' '\n",
    "        else:\n",
    "\n",
    "            i = 0\n",
    "            for i in range(len(s)):\n",
    "                j = 0\n",
    "                for n in range(len(s)):\n",
    "                    if s[i] == s[n]:\n",
    "                        j = j + 1\n",
    "                    else:\n",
    "                        pass\n",
    "                if j == 1:\n",
    "                    return s[i]\n",
    "                elif i == len(s)-1 and j != 1:\n",
    "                    return \" \"\n",
    "\n",
    "c = Solution()\n",
    "print(c.firstUniqChar(''))"
   ]
  },
  {
   "cell_type": "code",
   "execution_count": 61,
   "id": "14eaada5",
   "metadata": {},
   "outputs": [
    {
     "data": {
      "text/plain": [
       "'e'"
      ]
     },
     "execution_count": 61,
     "metadata": {},
     "output_type": "execute_result"
    }
   ],
   "source": [
    "a = \"leetcode\"\n",
    "len(a)\n",
    "a[1]"
   ]
  },
  {
   "cell_type": "code",
   "execution_count": 101,
   "id": "881fb3eb",
   "metadata": {},
   "outputs": [],
   "source": [
    "# 50\n",
    "class Solution:\n",
    "    def firstUniqChar(self, s):\n",
    "        dic = {}\n",
    "        for c in s:\n",
    "            dic[c] = not c in dic # 添加键和值\n",
    "        for c in s:\n",
    "            if dic[c]:\n",
    "                return c\n",
    "        return \" \"\n",
    "            \n"
   ]
  },
  {
   "cell_type": "code",
   "execution_count": 105,
   "id": "b02823ec",
   "metadata": {},
   "outputs": [
    {
     "name": "stdout",
     "output_type": "stream",
     "text": [
      "l\n"
     ]
    }
   ],
   "source": [
    "# 50\n",
    "class Solution:\n",
    "    def firstUniqChar(self, s):\n",
    "        dic = {}\n",
    "        for c in s:\n",
    "            dic[c] = not c in dic # 添加键和值\n",
    "        for k, v in dic.items():\n",
    "            if v:\n",
    "                return k\n",
    "        return \" \"\n",
    "\n",
    "c = Solution()\n",
    "print(c.firstUniqChar(\"leetcode\"))"
   ]
  },
  {
   "cell_type": "code",
   "execution_count": 9,
   "id": "c6e2fdab",
   "metadata": {},
   "outputs": [
    {
     "ename": "AttributeError",
     "evalue": "'list' object has no attribute 'val'",
     "output_type": "error",
     "traceback": [
      "\u001b[1;31m---------------------------------------------------------------------------\u001b[0m",
      "\u001b[1;31mAttributeError\u001b[0m                            Traceback (most recent call last)",
      "Cell \u001b[1;32mIn[9], line 26\u001b[0m\n\u001b[0;32m     22\u001b[0m         \u001b[38;5;28;01mreturn\u001b[39;00m res\n\u001b[0;32m     25\u001b[0m c \u001b[38;5;241m=\u001b[39m Solution()\n\u001b[1;32m---> 26\u001b[0m c\u001b[38;5;241m.\u001b[39mlevelOrder([\u001b[38;5;241m3\u001b[39m,\u001b[38;5;241m9\u001b[39m,\u001b[38;5;241m20\u001b[39m,\u001b[38;5;241m15\u001b[39m,\u001b[38;5;241m7\u001b[39m])\n",
      "Cell \u001b[1;32mIn[9], line 19\u001b[0m, in \u001b[0;36mSolution.levelOrder\u001b[1;34m(self, root)\u001b[0m\n\u001b[0;32m     17\u001b[0m \u001b[38;5;28;01mwhile\u001b[39;00m queue:\n\u001b[0;32m     18\u001b[0m     node \u001b[38;5;241m=\u001b[39m queue\u001b[38;5;241m.\u001b[39mpopleft()\n\u001b[1;32m---> 19\u001b[0m     res\u001b[38;5;241m.\u001b[39mappend(node\u001b[38;5;241m.\u001b[39mval)\n\u001b[0;32m     20\u001b[0m     \u001b[38;5;28;01mif\u001b[39;00m node\u001b[38;5;241m.\u001b[39mleft: queue\u001b[38;5;241m.\u001b[39mappend(node\u001b[38;5;241m.\u001b[39mleft)\n\u001b[0;32m     21\u001b[0m     \u001b[38;5;28;01mif\u001b[39;00m node\u001b[38;5;241m.\u001b[39mright: queue\u001b[38;5;241m.\u001b[39mappend(n\u001b[38;5;241m.\u001b[39mright)\n",
      "\u001b[1;31mAttributeError\u001b[0m: 'list' object has no attribute 'val'"
     ]
    }
   ],
   "source": [
    "# 32\n",
    "# Definition for a binary tree node.\n",
    "# class TreeNode:\n",
    "#     def __init__(self, x):\n",
    "#         self.val = x\n",
    "#         self.left = None\n",
    "#         self.right = None\n",
    "\n",
    "\n",
    "import collections\n",
    "class Solution:\n",
    "    def levelOrder(self, root):\n",
    "        if not root: return []\n",
    "        res = [] \n",
    "        queue = collections.deque()\n",
    "        queue.append(root)\n",
    "        while queue:\n",
    "            node = queue.popleft()\n",
    "            res.append(node.val)\n",
    "            if node.left: queue.append(node.left)\n",
    "            if node.right: queue.append(n.right)\n",
    "        return res\n",
    "    \n",
    "    \n",
    "c = Solution()\n",
    "c.levelOrder([3,9,20,15,7])  "
   ]
  },
  {
   "cell_type": "code",
   "execution_count": 14,
   "id": "22b52503",
   "metadata": {},
   "outputs": [
    {
     "data": {
      "text/plain": [
       "1"
      ]
     },
     "execution_count": 14,
     "metadata": {},
     "output_type": "execute_result"
    }
   ],
   "source": [
    "3%2"
   ]
  },
  {
   "cell_type": "code",
   "execution_count": 16,
   "id": "e0245c6b",
   "metadata": {},
   "outputs": [
    {
     "data": {
      "text/plain": [
       "[20, 9]"
      ]
     },
     "execution_count": 16,
     "metadata": {},
     "output_type": "execute_result"
    }
   ],
   "source": [
    "tmp = [9, 20]\n",
    "tmp[::-1]"
   ]
  },
  {
   "cell_type": "code",
   "execution_count": 17,
   "id": "cd41e38e",
   "metadata": {},
   "outputs": [
    {
     "ename": "TypeError",
     "evalue": "Solution.isSubStructure() missing 1 required positional argument: 'B'",
     "output_type": "error",
     "traceback": [
      "\u001b[1;31m---------------------------------------------------------------------------\u001b[0m",
      "\u001b[1;31mTypeError\u001b[0m                                 Traceback (most recent call last)",
      "Cell \u001b[1;32mIn[17], line 27\u001b[0m\n\u001b[0;32m     24\u001b[0m B\u001b[38;5;241m.\u001b[39mleft \u001b[38;5;241m=\u001b[39m TreeNode(\u001b[38;5;241m1\u001b[39m)\n\u001b[0;32m     26\u001b[0m c \u001b[38;5;241m=\u001b[39m Solution\n\u001b[1;32m---> 27\u001b[0m c\u001b[38;5;241m.\u001b[39misSubStructure(A, B)\n",
      "\u001b[1;31mTypeError\u001b[0m: Solution.isSubStructure() missing 1 required positional argument: 'B'"
     ]
    }
   ],
   "source": [
    "class TreeNode:\n",
    "    def __init__(self, val=0, left=None, right=None):\n",
    "        self.val = val\n",
    "        self.left = left\n",
    "        self.right = right\n",
    "\n",
    "\n",
    "class Solution:\n",
    "    def isSubStructure(self, A, B):\n",
    "        def recur(A, B):\n",
    "            if not B: return True  # 结束递归的条件\n",
    "            if not A or A.val != B.val: return False  # 结束递归的条件\n",
    "            return recur(A.left, B.left) and (A.right, B.right)\n",
    "\n",
    "        return bool(A and B) and (recur(A, B) or self.isSubStructure(A.left, B) or self.isSubStructure(A.right, B))\n",
    "\n",
    "\n",
    "A = TreeNode(3)\n",
    "A.left = TreeNode(4)\n",
    "A.right = TreeNode(5)\n",
    "A.left.left = TreeNode(1)\n",
    "A.left.right = TreeNode(2)\n",
    "B = TreeNode(4)\n",
    "B.left = TreeNode(1)\n",
    "\n",
    "c = Solution\n",
    "c.isSubStructure(A, B)\n"
   ]
  },
  {
   "cell_type": "code",
   "execution_count": null,
   "id": "d880fd35",
   "metadata": {},
   "outputs": [],
   "source": [
    "# 28\n",
    "class Solution:\n",
    "    def isSymmetric(self, root: TreeNode) -> bool:\n",
    "        def recur(L, R):\n",
    "            if not L and not R: return Ture\n",
    "            if not R or not L or L.val != R.val: return False\n",
    "            return recur(L.left, R.right) and recur(L.right, R.left)\n",
    "        return not root or recur(root.left, root.right) "
   ]
  },
  {
   "cell_type": "code",
   "execution_count": null,
   "id": "8341f7da",
   "metadata": {},
   "outputs": [],
   "source": [
    "class ListNode:\n",
    "    def __init__(self, x):\n",
    "        self.val = x\n",
    "        self.next = None\n",
    "        \n",
    "class Solution:\n",
    "    def deleteNode(self, head: ListNode, val: int) -> ListNode:"
   ]
  },
  {
   "cell_type": "code",
   "execution_count": 2,
   "id": "b009f55d",
   "metadata": {},
   "outputs": [
    {
     "data": {
      "text/plain": [
       "'0x1'"
      ]
     },
     "execution_count": 2,
     "metadata": {},
     "output_type": "execute_result"
    }
   ],
   "source": [
    "hex(1)"
   ]
  },
  {
   "cell_type": "code",
   "execution_count": 3,
   "id": "1d8de94a",
   "metadata": {},
   "outputs": [
    {
     "data": {
      "text/plain": [
       "'-0x1'"
      ]
     },
     "execution_count": 3,
     "metadata": {},
     "output_type": "execute_result"
    }
   ],
   "source": [
    "hex(-1)"
   ]
  },
  {
   "cell_type": "code",
   "execution_count": 5,
   "id": "c63c64c4",
   "metadata": {},
   "outputs": [
    {
     "data": {
      "text/plain": [
       "'0xffffffff'"
      ]
     },
     "execution_count": 5,
     "metadata": {},
     "output_type": "execute_result"
    }
   ],
   "source": [
    "hex(-1 & 0xffffffff)"
   ]
  },
  {
   "cell_type": "code",
   "execution_count": 7,
   "id": "82ceb7ab",
   "metadata": {},
   "outputs": [
    {
     "data": {
      "text/plain": [
       "1"
      ]
     },
     "execution_count": 7,
     "metadata": {},
     "output_type": "execute_result"
    }
   ],
   "source": [
    "1 & 0xffffffff"
   ]
  },
  {
   "cell_type": "code",
   "execution_count": 21,
   "id": "55b5483d",
   "metadata": {},
   "outputs": [
    {
     "ename": "TypeError",
     "evalue": "Solution.majorityElement() missing 1 required positional argument: 'nums'",
     "output_type": "error",
     "traceback": [
      "\u001b[1;31m---------------------------------------------------------------------------\u001b[0m",
      "\u001b[1;31mTypeError\u001b[0m                                 Traceback (most recent call last)",
      "Cell \u001b[1;32mIn[21], line 9\u001b[0m\n\u001b[0;32m      7\u001b[0m c \u001b[38;5;241m=\u001b[39m Solution\n\u001b[0;32m      8\u001b[0m a \u001b[38;5;241m=\u001b[39m [\u001b[38;5;241m1\u001b[39m,\u001b[38;5;241m2\u001b[39m,\u001b[38;5;241m3\u001b[39m,\u001b[38;5;241m2\u001b[39m,\u001b[38;5;241m2\u001b[39m,\u001b[38;5;241m2\u001b[39m,\u001b[38;5;241m5\u001b[39m,\u001b[38;5;241m4\u001b[39m,\u001b[38;5;241m2\u001b[39m]\n\u001b[1;32m----> 9\u001b[0m c\u001b[38;5;241m.\u001b[39mmajorityElement(a)\n",
      "\u001b[1;31mTypeError\u001b[0m: Solution.majorityElement() missing 1 required positional argument: 'nums'"
     ]
    }
   ],
   "source": [
    "class Solution:\n",
    "    def majorityElement(self, nums):\n",
    "        nums.sort()\n",
    "        return nums[len(nums)//2]\n",
    "    \n",
    "    \n",
    "c = Solution\n",
    "a = [1,2,3,2,2,2,5,4,2]\n",
    "c.majorityElement(a)"
   ]
  },
  {
   "cell_type": "code",
   "execution_count": 16,
   "id": "6054be9b",
   "metadata": {},
   "outputs": [
    {
     "name": "stdout",
     "output_type": "stream",
     "text": [
      "[1, 2, 2, 2, 2, 2, 3, 4, 5]\n"
     ]
    }
   ],
   "source": [
    "nums = [1,2,3,2,2,2,5,4,2]\n",
    "nums.sort()\n",
    "print(nums)"
   ]
  },
  {
   "cell_type": "code",
   "execution_count": 22,
   "id": "84cd1599",
   "metadata": {},
   "outputs": [
    {
     "name": "stdout",
     "output_type": "stream",
     "text": [
      "[1, 2, 2, 2, 2, 2, 3, 4, 5]\n"
     ]
    }
   ],
   "source": [
    "my_list = [1,2,3,2,2,2,5,4,2]\n",
    "my_list.sort()\n",
    "print(my_list) "
   ]
  },
  {
   "cell_type": "code",
   "execution_count": 24,
   "id": "ecc9a9a7",
   "metadata": {},
   "outputs": [
    {
     "name": "stdout",
     "output_type": "stream",
     "text": [
      "1\n",
      "2\n",
      "3\n",
      "4\n"
     ]
    }
   ],
   "source": [
    "for i in range(1, 5):\n",
    "    print(i)"
   ]
  },
  {
   "cell_type": "code",
   "execution_count": 27,
   "id": "630a585c",
   "metadata": {},
   "outputs": [
    {
     "name": "stdout",
     "output_type": "stream",
     "text": [
      "2\n"
     ]
    }
   ],
   "source": [
    "for i in range(2, 3):\n",
    "    print(i)"
   ]
  },
  {
   "cell_type": "code",
   "execution_count": 33,
   "id": "c43c8e40",
   "metadata": {},
   "outputs": [
    {
     "data": {
      "text/plain": [
       "36"
      ]
     },
     "execution_count": 33,
     "metadata": {},
     "output_type": "execute_result"
    }
   ],
   "source": [
    "class Solution:\n",
    "    # dp[i]表示长度为i的解\n",
    "    def cuttingRope(self, n):\n",
    "        dp = [0] * (n + 1)\n",
    "        for i in range(2, n + 1):\n",
    "            for j in range(i):\n",
    "                dp[i] = max(dp[i], dp[i - j] * j, (i - j) * j)\n",
    "        return dp[n]\n",
    "    \n",
    "c = Solution()\n",
    "\n",
    "c.cuttingRope(10)"
   ]
  },
  {
   "cell_type": "code",
   "execution_count": 3,
   "id": "89d3b456",
   "metadata": {},
   "outputs": [
    {
     "name": "stdout",
     "output_type": "stream",
     "text": [
      "4\n",
      "3\n",
      "2\n",
      "1\n"
     ]
    }
   ],
   "source": [
    "for i in range(4, 0, -1):\n",
    "    print(i)"
   ]
  },
  {
   "cell_type": "code",
   "execution_count": 14,
   "id": "7a95d2ee",
   "metadata": {},
   "outputs": [
    {
     "name": "stdout",
     "output_type": "stream",
     "text": [
      "2\n",
      "['', '2']\n",
      "0\n",
      "1\n"
     ]
    }
   ],
   "source": [
    "s = '.2'\n",
    "l = s.split('.')\n",
    "print(len(l))\n",
    "print(l)\n",
    "print(len(l[0]))\n",
    "print(len(l[1]))"
   ]
  },
  {
   "cell_type": "code",
   "execution_count": 22,
   "id": "e0f8e66b",
   "metadata": {},
   "outputs": [
    {
     "data": {
      "text/plain": [
       "False"
      ]
     },
     "execution_count": 22,
     "metadata": {},
     "output_type": "execute_result"
    }
   ],
   "source": [
    "def isInteger(s):\n",
    "    if len(s) == 0: return False\n",
    "    if s[0] == '+' or s[0] == '-':\n",
    "        s = s[1:]\n",
    "    return s.isdigit()\n",
    "\n",
    "isInteger('.')"
   ]
  },
  {
   "cell_type": "code",
   "execution_count": null,
   "id": "4d9f00b3",
   "metadata": {},
   "outputs": [],
   "source": []
  },
  {
   "cell_type": "code",
   "execution_count": null,
   "id": "8b90d6a1",
   "metadata": {},
   "outputs": [],
   "source": []
  }
 ],
 "metadata": {
  "kernelspec": {
   "display_name": "Python 3 (ipykernel)",
   "language": "python",
   "name": "python3"
  },
  "language_info": {
   "codemirror_mode": {
    "name": "ipython",
    "version": 3
   },
   "file_extension": ".py",
   "mimetype": "text/x-python",
   "name": "python",
   "nbconvert_exporter": "python",
   "pygments_lexer": "ipython3",
   "version": "3.11.3"
  }
 },
 "nbformat": 4,
 "nbformat_minor": 5
}
