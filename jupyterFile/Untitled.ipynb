{
 "cells": [
  {
   "cell_type": "code",
   "execution_count": 1,
   "id": "7be9efab",
   "metadata": {},
   "outputs": [
    {
     "name": "stdout",
     "output_type": "stream",
     "text": [
      "Tom Paris\n",
      "tom\n"
     ]
    }
   ],
   "source": [
    "import re\n",
    "def name_of_email(addr):\n",
    "    a = re.compile(r'<?([\\w\\s]+)>?([\\w]+)*@[\\w]+\\.\\w+')\n",
    "    b = a.match(addr)\n",
    "    return b.group(1)\n",
    "print(name_of_email('<Tom Paris>tom@voyager.org'))\n",
    "print(name_of_email('tom@voyager.org'))"
   ]
  }
 ],
 "metadata": {
  "kernelspec": {
   "display_name": "Python 3 (ipykernel)",
   "language": "python",
   "name": "python3"
  },
  "language_info": {
   "codemirror_mode": {
    "name": "ipython",
    "version": 3
   },
   "file_extension": ".py",
   "mimetype": "text/x-python",
   "name": "python",
   "nbconvert_exporter": "python",
   "pygments_lexer": "ipython3",
   "version": "3.9.13"
  }
 },
 "nbformat": 4,
 "nbformat_minor": 5
}
